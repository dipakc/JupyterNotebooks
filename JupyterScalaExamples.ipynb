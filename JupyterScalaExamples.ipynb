{
 "cells": [
  {
   "cell_type": "markdown",
   "metadata": {},
   "source": [
    "## Scala HelloWorld"
   ]
  },
  {
   "cell_type": "markdown",
   "metadata": {},
   "source": [
    "Jupyter scala on github https://github.com/alexarchambault/jupyter-scala"
   ]
  },
  {
   "cell_type": "code",
   "execution_count": 1,
   "metadata": {
    "collapsed": false
   },
   "outputs": [
    {
     "name": "stdout",
     "output_type": "stream",
     "text": [
      "Hello World\n"
     ]
    },
    {
     "data": {
      "text/plain": []
     },
     "metadata": {},
     "output_type": "display_data"
    }
   ],
   "source": [
    "println(\"Hello World\")"
   ]
  },
  {
   "cell_type": "markdown",
   "metadata": {},
   "source": [
    "## Rendering html"
   ]
  },
  {
   "cell_type": "code",
   "execution_count": 4,
   "metadata": {
    "collapsed": false
   },
   "outputs": [
    {
     "data": {
      "text/html": [
       "<div style=\"background-color:pink\">\n",
       "    Hello\n",
       "  </div>"
      ]
     },
     "metadata": {},
     "output_type": "display_data"
    },
    {
     "data": {
      "text/plain": []
     },
     "metadata": {},
     "output_type": "display_data"
    }
   ],
   "source": [
    "display.html(\n",
    "  <div style='background-color:pink'>\n",
    "    Hello\n",
    "  </div>\n",
    ")"
   ]
  },
  {
   "cell_type": "markdown",
   "metadata": {},
   "source": [
    "## Executing javascript"
   ]
  },
  {
   "cell_type": "code",
   "execution_count": 5,
   "metadata": {
    "collapsed": false
   },
   "outputs": [
    {
     "data": {
      "application/javascript": [
       "alert('hi');"
      ]
     },
     "metadata": {},
     "output_type": "display_data"
    },
    {
     "data": {
      "text/plain": []
     },
     "metadata": {},
     "output_type": "display_data"
    }
   ],
   "source": [
    "\n",
    "display.js( \"alert('hi');\")\n"
   ]
  },
  {
   "cell_type": "markdown",
   "metadata": {},
   "source": [
    "## Executing js using html script tag"
   ]
  },
  {
   "cell_type": "code",
   "execution_count": 15,
   "metadata": {
    "collapsed": false
   },
   "outputs": [
    {
     "data": {
      "text/html": [
       "<script> alert('hi'); </script>"
      ]
     },
     "metadata": {},
     "output_type": "display_data"
    },
    {
     "data": {
      "text/plain": []
     },
     "metadata": {},
     "output_type": "display_data"
    }
   ],
   "source": [
    "display.html(\n",
    "  <script> alert('hi'); </script>\n",
    ")"
   ]
  },
  {
   "cell_type": "markdown",
   "metadata": {},
   "source": [
    "The following gives error for some reason"
   ]
  },
  {
   "cell_type": "code",
   "execution_count": 16,
   "metadata": {
    "collapsed": false
   },
   "outputs": [
    {
     "data": {
      "text/html": [
       "<script> alert(&quot;hi&quot;); </script>"
      ]
     },
     "metadata": {},
     "output_type": "display_data"
    },
    {
     "data": {
      "text/plain": []
     },
     "metadata": {},
     "output_type": "display_data"
    }
   ],
   "source": [
    "display.html(\n",
    "  <script> alert(\"hi\"); </script>\n",
    ")\n"
   ]
  },
  {
   "cell_type": "markdown",
   "metadata": {},
   "source": [
    "Using scala expression inside the script."
   ]
  },
  {
   "cell_type": "code",
   "execution_count": 14,
   "metadata": {
    "collapsed": false
   },
   "outputs": [
    {
     "data": {
      "text/html": [
       "<script>\n",
       "    alert(5);\n",
       "  </script>"
      ]
     },
     "metadata": {},
     "output_type": "display_data"
    },
    {
     "data": {
      "text/plain": [
       "\u001b[36mi\u001b[0m: \u001b[32mInt\u001b[0m = \u001b[32m5\u001b[0m"
      ]
     },
     "metadata": {},
     "output_type": "display_data"
    }
   ],
   "source": [
    "val i: Int = 5\n",
    "display.html(\n",
    "  <script>\n",
    "    alert({i});\n",
    "  </script>\n",
    ")"
   ]
  },
  {
   "cell_type": "markdown",
   "metadata": {
    "collapsed": false
   },
   "source": [
    "## Loading d3.js\n",
    "### Solution 1: custom.js\n",
    "Add the following in the Jupyter `custom.js`.\n",
    "\n",
    "```javascript\n",
    "requirejs.config({\n",
    "    paths: { \n",
    "        'd3': ['//cdnjs.cloudflare.com/ajax/libs/d3/3.5.6/d3'], \n",
    "                                               // strip .js ^, require adds it back\n",
    "    },});\n",
    "\n",
    "require(['d3'], function(d3) {\n",
    "    console.log(\"Loaded :)\");   \n",
    "    return {};});\n",
    "```    "
   ]
  },
  {
   "cell_type": "markdown",
   "metadata": {},
   "source": [
    "### Solution 2: display.js"
   ]
  },
  {
   "cell_type": "code",
   "execution_count": 1,
   "metadata": {
    "collapsed": false
   },
   "outputs": [
    {
     "data": {
      "application/javascript": [
       "requirejs.config({\n",
       "    paths: { \n",
       "        'd3': ['//cdnjs.cloudflare.com/ajax/libs/d3/3.5.6/d3'],\n",
       "    },});\n",
       "\n",
       "require(['d3'], function(d3) {\n",
       "    console.log('Loaded d3');   \n",
       "    return {};});"
      ]
     },
     "metadata": {},
     "output_type": "display_data"
    },
    {
     "data": {
      "text/plain": []
     },
     "metadata": {},
     "output_type": "display_data"
    }
   ],
   "source": [
    "display.js(\n",
    "\"\"\"requirejs.config({\n",
    "    paths: { \n",
    "        'd3': ['//cdnjs.cloudflare.com/ajax/libs/d3/3.5.6/d3'],\n",
    "    },});\n",
    "\n",
    "require(['d3'], function(d3) {\n",
    "    console.log('Loaded d3');   \n",
    "    return {};});\"\"\"\n",
    ")"
   ]
  },
  {
   "cell_type": "markdown",
   "metadata": {},
   "source": [
    "### Solution 3: display.html "
   ]
  },
  {
   "cell_type": "code",
   "execution_count": 3,
   "metadata": {
    "collapsed": false
   },
   "outputs": [
    {
     "data": {
      "text/html": [
       "<script>\n",
       "    requirejs.config({\n",
       "    paths: { \n",
       "        'd3': ['//cdnjs.cloudflare.com/ajax/libs/d3/3.5.6/d3'],\n",
       "    },});\n",
       "\n",
       "require(['d3'], function(d3) {\n",
       "    console.log('Loaded d3');   \n",
       "    return {};});\n",
       "</script>"
      ]
     },
     "metadata": {},
     "output_type": "display_data"
    },
    {
     "data": {
      "text/plain": []
     },
     "metadata": {},
     "output_type": "display_data"
    }
   ],
   "source": [
    "// Use script tag if you want to input your code as a string. However all braces need to be replaced with\n",
    "// double braces.\n",
    "\n",
    "display.html(\n",
    "<script>\n",
    "    requirejs.config({{\n",
    "    paths: {{ \n",
    "        'd3': ['//cdnjs.cloudflare.com/ajax/libs/d3/3.5.6/d3'],\n",
    "    }},}});\n",
    "\n",
    "require(['d3'], function(d3) {{\n",
    "    console.log('Loaded d3');   \n",
    "    return {{}};}});\n",
    "</script>\n",
    ")"
   ]
  },
  {
   "cell_type": "markdown",
   "metadata": {},
   "source": [
    "## D3 simple example\n",
    "source: https://bl.ocks.org/mbostock/7322386\n",
    "\n",
    "We want to run the following d3 example in jupyter."
   ]
  },
  {
   "cell_type": "markdown",
   "metadata": {},
   "source": [
    "```html\n",
    "<!DOCTYPE html>\n",
    "<meta charset=\"utf-8\">\n",
    "<style>\n",
    "\n",
    ".chart div {\n",
    "  font: 10px sans-serif;\n",
    "  background-color: steelblue;\n",
    "  text-align: right;\n",
    "  padding: 3px;\n",
    "  margin: 1px;\n",
    "  color: white;\n",
    "}\n",
    "\n",
    "</style>\n",
    "<div class=\"chart\"></div>\n",
    "<script src=\"//d3js.org/d3.v3.min.js\"></script>\n",
    "<script>\n",
    "\n",
    "var data = [4, 8, 15, 16, 23, 42];\n",
    "\n",
    "var x = d3.scale.linear()\n",
    "    .domain([0, d3.max(data)])\n",
    "    .range([0, 420]);\n",
    "\n",
    "d3.select(\".chart\")\n",
    "  .selectAll(\"div\")\n",
    "    .data(data)\n",
    "  .enter().append(\"div\")\n",
    "    .style(\"width\", function(d) { return x(d) + \"px\"; })\n",
    "    .text(function(d) { return d; });\n",
    "\n",
    "</script>\n",
    "```"
   ]
  },
  {
   "cell_type": "markdown",
   "metadata": {},
   "source": [
    "## Solution 1"
   ]
  },
  {
   "cell_type": "code",
   "execution_count": 7,
   "metadata": {
    "collapsed": false
   },
   "outputs": [
    {
     "data": {
      "text/html": [
       "<div class=\"chart\"></div>"
      ]
     },
     "metadata": {},
     "output_type": "display_data"
    },
    {
     "data": {
      "text/plain": []
     },
     "metadata": {},
     "output_type": "display_data"
    }
   ],
   "source": [
    "display.html(\n",
    "<div class=\"chart\"></div>\n",
    ")"
   ]
  },
  {
   "cell_type": "code",
   "execution_count": 10,
   "metadata": {
    "collapsed": false
   },
   "outputs": [
    {
     "data": {
      "text/html": [
       "<style>\n",
       "\n",
       ".chart div {\n",
       "  font: 10px sans-serif;\n",
       "  background-color: steelblue;\n",
       "  text-align: right;\n",
       "  padding: 3px;\n",
       "  margin: 1px;\n",
       "  color: white;\n",
       "}\n",
       "\n",
       "</style>"
      ]
     },
     "metadata": {},
     "output_type": "display_data"
    },
    {
     "data": {
      "text/plain": []
     },
     "metadata": {},
     "output_type": "display_data"
    }
   ],
   "source": [
    "// braces are replaced with double braces.\n",
    "display.html(\n",
    "<style>\n",
    "\n",
    ".chart div {{\n",
    "  font: 10px sans-serif;\n",
    "  background-color: steelblue;\n",
    "  text-align: right;\n",
    "  padding: 3px;\n",
    "  margin: 1px;\n",
    "  color: white;\n",
    "}}\n",
    "\n",
    "</style>\n",
    ")"
   ]
  },
  {
   "cell_type": "code",
   "execution_count": 9,
   "metadata": {
    "collapsed": false
   },
   "outputs": [
    {
     "data": {
      "application/javascript": [
       "\n",
       "var data = [4, 8, 15, 16, 23, 42];\n",
       "\n",
       "var x = d3.scale.linear()\n",
       "    .domain([0, d3.max(data)])\n",
       "    .range([0, 420]);\n",
       "\n",
       "d3.select(\".chart\")\n",
       "  .selectAll(\"div\")\n",
       "    .data(data)\n",
       "  .enter().append(\"div\")\n",
       "    .style(\"width\", function(d) { return x(d) + \"px\"; })\n",
       "    .text(function(d) { return d; });\n"
      ]
     },
     "metadata": {},
     "output_type": "display_data"
    },
    {
     "data": {
      "text/plain": []
     },
     "metadata": {},
     "output_type": "display_data"
    }
   ],
   "source": [
    "display.js(\n",
    "\"\"\"\n",
    "var data = [4, 8, 15, 16, 23, 42];\n",
    "\n",
    "var x = d3.scale.linear()\n",
    "    .domain([0, d3.max(data)])\n",
    "    .range([0, 420]);\n",
    "\n",
    "d3.select(\".chart\")\n",
    "  .selectAll(\"div\")\n",
    "    .data(data)\n",
    "  .enter().append(\"div\")\n",
    "    .style(\"width\", function(d) { return x(d) + \"px\"; })\n",
    "    .text(function(d) { return d; });\n",
    "\"\"\"\n",
    ")"
   ]
  },
  {
   "cell_type": "markdown",
   "metadata": {},
   "source": [
    "## Solution 2\n",
    "\n",
    "Write css and javascript content in separate files using the Jupyter editor which has syntax hilighting for both the languages."
   ]
  },
  {
   "cell_type": "code",
   "execution_count": 12,
   "metadata": {
    "collapsed": false
   },
   "outputs": [
    {
     "data": {
      "text/html": [
       "<div class=\"chart2\"></div>"
      ]
     },
     "metadata": {},
     "output_type": "display_data"
    },
    {
     "data": {
      "text/plain": []
     },
     "metadata": {},
     "output_type": "display_data"
    }
   ],
   "source": [
    "display.html(\n",
    "    <div class=\"chart2\"></div>\n",
    ")"
   ]
  },
  {
   "cell_type": "code",
   "execution_count": 13,
   "metadata": {
    "collapsed": false
   },
   "outputs": [
    {
     "data": {
      "text/html": [
       "<link rel=\"stylesheet\" href=\"d3example.css\"></link>"
      ]
     },
     "metadata": {},
     "output_type": "display_data"
    },
    {
     "data": {
      "text/plain": []
     },
     "metadata": {},
     "output_type": "display_data"
    }
   ],
   "source": [
    "display.html(\n",
    "    <link rel=\"stylesheet\" href=\"d3example.css\"></link>\n",
    ")"
   ]
  },
  {
   "cell_type": "code",
   "execution_count": 14,
   "metadata": {
    "collapsed": false
   },
   "outputs": [
    {
     "data": {
      "text/html": [
       "<script src=\"d3example.js\"></script>"
      ]
     },
     "metadata": {},
     "output_type": "display_data"
    },
    {
     "data": {
      "text/plain": []
     },
     "metadata": {},
     "output_type": "display_data"
    }
   ],
   "source": [
    "display.html(\n",
    "    <script src=\"d3example.js\"></script>\n",
    ")"
   ]
  }
 ],
 "metadata": {
  "anaconda-cloud": {},
  "kernelspec": {
   "display_name": "Scala 2.11",
   "language": "scala211",
   "name": "scala211"
  },
  "language_info": {
   "codemirror_mode": "text/x-scala",
   "file_extension": ".scala",
   "mimetype": "text/x-scala",
   "name": "scala211",
   "pygments_lexer": "scala",
   "version": "2.11.8"
  }
 },
 "nbformat": 4,
 "nbformat_minor": 1
}
